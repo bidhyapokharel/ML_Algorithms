{
 "cells": [
  {
   "cell_type": "code",
   "execution_count": 3,
   "id": "eff815fc",
   "metadata": {},
   "outputs": [],
   "source": [
    "import pandas as pd\n",
    "from sklearn.linear_model import LinearRegression\n",
    "from sklearn.metrics import mean_squared_error"
   ]
  },
  {
   "cell_type": "code",
   "execution_count": 4,
   "id": "e3df930f",
   "metadata": {},
   "outputs": [],
   "source": [
    "train_data = pd.read_csv('train.csv')\n",
    "test_data = pd.read_csv('test.csv')"
   ]
  },
  {
   "cell_type": "code",
   "execution_count": 6,
   "id": "7873551b",
   "metadata": {},
   "outputs": [
    {
     "data": {
      "text/plain": [
       "(1364, 36)"
      ]
     },
     "execution_count": 6,
     "metadata": {},
     "output_type": "execute_result"
    }
   ],
   "source": [
    "train_data.shape"
   ]
  },
  {
   "cell_type": "code",
   "execution_count": 11,
   "id": "c15aec63",
   "metadata": {},
   "outputs": [],
   "source": [
    "train_x = train_data.drop(columns=['Item_Outlet_Sales'],axis=1)\n",
    "train_y = train_data['Item_Outlet_Sales']"
   ]
  },
  {
   "cell_type": "code",
   "execution_count": 12,
   "id": "86e8e975",
   "metadata": {},
   "outputs": [],
   "source": [
    "test_x = train_data.drop(columns=['Item_Outlet_Sales'],axis=1)\n",
    "test_y = train_data['Item_Outlet_Sales']"
   ]
  },
  {
   "cell_type": "code",
   "execution_count": 13,
   "id": "c17cfe04",
   "metadata": {},
   "outputs": [],
   "source": [
    "model = LinearRegression()"
   ]
  },
  {
   "cell_type": "code",
   "execution_count": 14,
   "id": "074b2f3d",
   "metadata": {},
   "outputs": [
    {
     "data": {
      "text/plain": [
       "LinearRegression()"
      ]
     },
     "execution_count": 14,
     "metadata": {},
     "output_type": "execute_result"
    }
   ],
   "source": [
    "model.fit(train_x,train_y)"
   ]
  },
  {
   "cell_type": "code",
   "execution_count": 16,
   "id": "604dd0bf",
   "metadata": {},
   "outputs": [
    {
     "name": "stdout",
     "output_type": "stream",
     "text": [
      "\n",
      "Coefficient of model : [-3.84197604e+00  9.83065945e+00  1.61711856e+01  6.09197622e+01\n",
      " -8.64161561e+01  1.23593376e+02  2.34714039e+02 -2.44597425e+02\n",
      " -2.72938329e+01 -8.09611456e+00 -3.01147840e+02  1.70727611e+02\n",
      " -5.40194744e+01  7.34248834e+01  1.70313375e+00 -5.07701615e+01\n",
      "  1.63553657e+02 -5.85286125e+01  1.04913492e+02 -6.01944874e+01\n",
      "  1.98948206e+02 -1.40959023e+02  1.19426257e+02  2.66382669e+01\n",
      " -1.85619792e+02  1.43925357e+03  2.16134663e+02  3.54723990e+01\n",
      "  3.54832996e+02 -5.54559635e+00 -3.49287400e+02 -1.39202954e+03\n",
      " -2.57982359e+02 -9.59016062e+02  2.60902796e+03]\n"
     ]
    }
   ],
   "source": [
    "# coefficeints of the trained model\n",
    "print('\\nCoefficient of model :', model.coef_)"
   ]
  },
  {
   "cell_type": "code",
   "execution_count": null,
   "id": "d6d2f5ac",
   "metadata": {},
   "outputs": [],
   "source": [
    "# predict the target on the test dataset\n",
    "predict_train = model"
   ]
  }
 ],
 "metadata": {
  "kernelspec": {
   "display_name": "Python 3",
   "language": "python",
   "name": "python3"
  },
  "language_info": {
   "codemirror_mode": {
    "name": "ipython",
    "version": 3
   },
   "file_extension": ".py",
   "mimetype": "text/x-python",
   "name": "python",
   "nbconvert_exporter": "python",
   "pygments_lexer": "ipython3",
   "version": "3.8.5"
  }
 },
 "nbformat": 4,
 "nbformat_minor": 5
}
